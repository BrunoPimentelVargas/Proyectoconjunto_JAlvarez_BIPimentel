{
 "cells": [
  {
   "cell_type": "markdown",
   "metadata": {},
   "source": [
    "<img style=\"float: left; margin: 30px 15px 15px 15px;\" src=\"https://pngimage.net/wp-content/uploads/2018/06/logo-iteso-png-5.png\" width=\"300\" height=\"500\" /> \n",
    "    \n",
    "    \n",
    "### <font color='navy'> Simulación de procesos financieros. \n",
    "\n",
    "**Nombres:** Bruno Issac Pimentel Vargas, Jesús Álvarez Castellanos.\n",
    "\n",
    "**Fecha:** 03 de enero del 2020.\n",
    "\n",
    "**Expediente** : 716803, 714552.\n",
    "**Profesor:** Oscar David Jaramillo Zuluaga.\n",
    "\n",
    "# Tarea 1: Clase 1"
   ]
  },
  {
   "cell_type": "markdown",
   "metadata": {},
   "source": [
    "## Enunciado de tarea (Transcibirlo)\n",
    "> Descripción de la tarea"
   ]
  },
  {
   "cell_type": "markdown",
   "metadata": {},
   "source": [
    "### Ejercicio 1: (enunciado)"
   ]
  },
  {
   "cell_type": "code",
   "execution_count": null,
   "metadata": {},
   "outputs": [],
   "source": [
    "# Código de solución \n",
    ".\n",
    ".\n",
    ".\n",
    ".\n"
   ]
  },
  {
   "cell_type": "markdown",
   "metadata": {},
   "source": [
    "# Estudiante 2\n",
    "\n",
    "## Presentación \n",
    "\n",
    "   Hola, mi nombre es Bruno Pimentel, tengo **21** años y soy estudiante de la carrera Ingenieria Finanaciera, estoy cursando **6** semestre y realmente lo que espero lograr a lo largo de este curso es poder eficientar mi manera de programar para lograr realizar programas con un mayor grado de dificultad y con un tiempo menor de espera de los resultados. \n",
    "    Espero poder lograr simular ciertos escenarios de manera que me permitan visualizar posibles comportamientos y resultados para poder lograr en mi trabajo lo siguiente:\n",
    "    1. Reducir costos \n",
    "    2. Predecir ventas\n",
    "    3. Valuar la viabiliad de ciertos proyectos de inversión \n",
    "    \n",
    "| Productos | Cantidad | Porcentaje | % calificación |\n",
    "|:---------:|:--------:|:----------:|:--------------:|\n",
    "|   Examen  |     2    |     15     |       30%      |\n",
    "|   Tareas  |    10    |      3     |       30%      |\n",
    "| Proyectos |     1    |     20     |       20%      |\n",
    "|   Quices  |     7    |    ≈2.86   |       20%      |\n",
    "\n",
    "\n",
    "### Figura 5\n",
    "\n",
    "1. La fórmula el rectángulo se obtiene al interpolar a $f(x)$ por medio del polinomio contante $p_0(x)=f(\\frac{a+b}{2})$.\n",
    "\n",
    "$$\n",
    "\\int_{a}^{b}f(x)dx\\approx (b-a) f(\\frac{a+b}{2}) = R(f).\n",
    "$$\n",
    "\n",
    "2. La fórmula del trapecio se obtiene al interpolar a $f$ por medio de un polinomio lineal $p_1(x)=\\alpha x + \\beta$ que satisfaga $f(a) = p_1(a)$, y $f(b)=p_1(b)$.Determinar el polinomio lineal es equivalente a resolver un sistema de ecuaciones lineales para $\\alpha$ y $\\beta$ cuya solución es \n",
    "\n",
    "$$\n",
    "\\alpha=\\frac{f(b)-f(a)}{b-a} \\qquad  \\beta=\\frac{f(b)a-f(a)b}{b-a}.\n",
    "$$\n",
    "\n",
    "Al integrar $p_1(x)$ en el intervalo $[a,b]$, se obtiene la regla del trapecio con $h=b-a$\n",
    "\n",
    "$$\n",
    "\\int_{a}^{b}f(x)dx\\approx\\int_{a}^{b}p_1(x)dx=\\frac{h}{2}(f(a)+f(b))=T(f).\n",
    "$$\n",
    "   \n",
    "El error está dado por\n",
    "$$\n",
    "\\int_{a}^{b}f(x)dx-T(f)=-\\frac{h^3}{12}({f}''(n)), \\qquad a < n < b.\n",
    "$$\n",
    "\n",
    "3. Por último al integrar el polinomio cuadrático que interpola a $f$ en $x = a, x=\\frac{a+b}{2}$, y $x=b$ se obtiene la regla  de Simpson con $h=\\frac{b-a}{2}$\n",
    "\n",
    "$$\n",
    "\\int_{a}^{b}f(x)dx\\approx\\int_{a}^{b}p_2(x)dx=\\frac{h}{3}(f(a)+4f(a+h)+f(b))=S(f).\n",
    "$$\n",
    "\n",
    "El error que se comete al usar Simpson es \n",
    "\n",
    "$$\n",
    "\\int_{a}^{b}f(x)dx-S(f)=\\frac{h^5}{90}(f^{(4)})(n)), \\qquad a < n < b.\n",
    "$$\n",
    "\n",
    "<img style=\"center\" src=\"https://img2.freepng.es/20180424/arw/kisspng-trapezoidal-rule-integral-numerical-integration-ap-composite-5aded0b790de36.6185651315245518635934.jpg\" width=\"250px\" height=\"200px\" alt=\"atom\" />"
   ]
  },
  {
   "cell_type": "markdown",
   "metadata": {},
   "source": [
    "### Respuesta planteada en el ejercicio usando (markdown)\n",
    " La respuesta es ........."
   ]
  },
  {
   "cell_type": "code",
   "execution_count": null,
   "metadata": {},
   "outputs": [],
   "source": []
  }
 ],
 "metadata": {
  "kernelspec": {
   "display_name": "Python 3",
   "language": "python",
   "name": "python3"
  },
  "language_info": {
   "codemirror_mode": {
    "name": "ipython",
    "version": 3
   },
   "file_extension": ".py",
   "mimetype": "text/x-python",
   "name": "python",
   "nbconvert_exporter": "python",
   "pygments_lexer": "ipython3",
   "version": "3.7.4"
  }
 },
 "nbformat": 4,
 "nbformat_minor": 2
}
